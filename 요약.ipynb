{
 "cells": [
  {
   "cell_type": "markdown",
   "metadata": {},
   "source": [
    "### 구간법\n",
    "\n",
    "#### 이분법\n",
    "* $ f(x) $ 의 부호가 바뀌는 구간을 찾는 방법으로 증분 탐색법의 한 종류.\n",
    "* 구간으로 주어진 초기 값에서 근이 포함된 구간을 반으로 나누면서 해를 근사해 나감.\n",
    "\n",
    "초기값 ($x_l$, $x_u$)\n",
    "\n",
    "$x_r = \\frac{x_l + x_u}{2}$ -> 중간 값\n",
    "\n",
    "**if** $f(x_l)*f(x_r)$ < 0:\n",
    "\n",
    "$\\quad$ $x_u$ = $x_r$, f($x_u$) = f($x_r$)    #upper limit을 새롭게 정의\n",
    "\n",
    "**else**  ($f(x_u)*f(x_r)$ < 0):\n",
    "\n",
    "$\\quad$ $x_l$ = $x_r$, f($x_l$) = f($x_r$)    #lower limit을 새롭게 정의\n",
    "\n",
    "********************************************************************\n",
    "\n",
    "**if** $ f(x_r) * f(x_u) > 0 $ \n",
    "\n",
    "$\\quad$ $ x_r = x_u $\n",
    "\n",
    "**if** $ f(x_r) * f(x_l) > 0 $\n",
    "\n",
    "$\\quad$ $ x_r = x_l $\n",
    "#### 가위치법"
   ]
  },
  {
   "cell_type": "markdown",
   "metadata": {},
   "source": []
  }
 ],
 "metadata": {
  "kernelspec": {
   "display_name": "Python 3 (ipykernel)",
   "language": "python",
   "name": "python3"
  },
  "language_info": {
   "codemirror_mode": {
    "name": "ipython",
    "version": 3
   },
   "file_extension": ".py",
   "mimetype": "text/x-python",
   "name": "python",
   "nbconvert_exporter": "python",
   "pygments_lexer": "ipython3",
   "version": "3.10.9"
  }
 },
 "nbformat": 4,
 "nbformat_minor": 2
}
