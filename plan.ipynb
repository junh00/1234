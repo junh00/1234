{
 "cells": [
  {
   "cell_type": "markdown",
   "metadata": {},
   "source": [
    "# training set : generation 1"
   ]
  },
  {
   "cell_type": "code",
   "execution_count": 1,
   "metadata": {},
   "outputs": [],
   "source": [
    "from ase import Atoms,Atom\n",
    "from ase.io import read,write\n",
    "from ase.build import make_supercell,sort\n",
    "\n",
    "import numpy as np"
   ]
  },
  {
   "cell_type": "markdown",
   "metadata": {},
   "source": [
    "## 0. **structure optimize**\n",
    "\n",
    "by DFT calculation get CONTCAR at this time, CONTCAR is Ground state"
   ]
  },
  {
   "cell_type": "markdown",
   "metadata": {},
   "source": [
    "## 1. **Distortion**\n",
    "\n",
    "* The structure obtained through structure optimization is used \n",
    "\n",
    "* cell It distorts the size of the cell and the position of the ion"
   ]
  },
  {
   "cell_type": "code",
   "execution_count": 2,
   "metadata": {},
   "outputs": [],
   "source": [
    "max_displacement=0.01 # Maximum displacement in angstrom\n",
    "max_cell_change=0.01 # Maximum fractional change in cell"
   ]
  },
  {
   "cell_type": "code",
   "execution_count": 3,
   "metadata": {},
   "outputs": [],
   "source": [
    "bulk_ruo2 = read('CONTCAR')\n",
    "P = np.identity(3) * 2\n",
    "conf = make_supercell(bulk_ruo2, P)\n",
    "\n",
    "initial_positions=conf.get_positions()\n",
    "initial_cell=conf.get_cell()"
   ]
  },
  {
   "cell_type": "code",
   "execution_count": 4,
   "metadata": {},
   "outputs": [],
   "source": [
    "num_iterations= 1\n",
    "for i in range(num_iterations):\n",
    "    positions=np.copy(initial_positions)\n",
    "    cell=np.copy(initial_cell)\n",
    "    # Displace each coordinate randomly\n",
    "    positions += np.random.rand(positions.shape[0],positions.shape[1])*2*max_displacement - max_displacement\n",
    "    conf.set_positions(positions)\n",
    "    # Scale each cell component randomly\n",
    "    cell *= 1-(np.random.rand(cell.shape[0],cell.shape[1])*2*max_cell_change-max_cell_change)\n",
    "    conf.set_cell(cell,scale_atoms=True)\n",
    "    write('POSCAR-' + str(i),sort(conf))"
   ]
  },
  {
   "cell_type": "markdown",
   "metadata": {},
   "source": [
    "## 2.  **Oxygen vacancy**\n",
    "\n",
    "* The structure obtained through structure optimization is used\n",
    "\n",
    "* Randomly add a vacancy using atom.index"
   ]
  },
  {
   "cell_type": "code",
   "execution_count": 5,
   "metadata": {},
   "outputs": [],
   "source": [
    "bulk_ruo2\n",
    "P = np.identity(3) * 2\n",
    "conff = make_supercell(bulk_ruo2, P)"
   ]
  },
  {
   "cell_type": "code",
   "execution_count": 6,
   "metadata": {},
   "outputs": [],
   "source": [
    "count_oxygen = sum(conf.symbols == 'O')\n",
    "count_ru = len(conf) - count_oxygen\n",
    "def vacancy(structure,ratio):\n",
    "    count_oxygen = sum(structure.symbols == 'O')\n",
    "    count_ru = len(structure) - count_oxygen\n",
    "    x = - (ratio * count_ru - count_oxygen)\n",
    "    xx = np.random.choice(range(0,count_oxygen - 1), int(x),replace=False)\n",
    "    xx.sort()\n",
    "    conf = sort(structure)\n",
    "    for i in xx:\n",
    "        del conf[int(i) - i]\n",
    "    return conf\n",
    "        "
   ]
  },
  {
   "cell_type": "code",
   "execution_count": 7,
   "metadata": {},
   "outputs": [],
   "source": [
    "ruo15 = vacancy(conff,1.5)\n",
    "ruo175 = vacancy(conff,1.75)"
   ]
  },
  {
   "cell_type": "code",
   "execution_count": 8,
   "metadata": {},
   "outputs": [],
   "source": [
    "write('ruo15.xyz',sort(ruo15))\n",
    "write('ruo175.xyz',sort(ruo175))"
   ]
  }
 ],
 "metadata": {
  "kernelspec": {
   "display_name": "Python 3 (ipykernel)",
   "language": "python",
   "name": "python3"
  },
  "language_info": {
   "codemirror_mode": {
    "name": "ipython",
    "version": 3
   },
   "file_extension": ".py",
   "mimetype": "text/x-python",
   "name": "python",
   "nbconvert_exporter": "python",
   "pygments_lexer": "ipython3",
   "version": "3.10.9"
  }
 },
 "nbformat": 4,
 "nbformat_minor": 2
}
