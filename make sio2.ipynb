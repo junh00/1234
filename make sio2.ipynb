{
 "cells": [
  {
   "cell_type": "code",
   "execution_count": 1,
   "metadata": {},
   "outputs": [],
   "source": [
    "from ase import Atoms\n",
    "from ase.build import make_supercell, sort\n",
    "from ase.io.vasp import write_vasp\n",
    "from ase.io import read,write\n",
    "\n",
    "import numpy as np"
   ]
  },
  {
   "cell_type": "code",
   "execution_count": 2,
   "metadata": {},
   "outputs": [],
   "source": [
    "si2o3 = Atoms('Si2O3')\n",
    "sio2 = read('SiO2_mp-6930_conventional_standard.cif')"
   ]
  },
  {
   "cell_type": "code",
   "execution_count": 3,
   "metadata": {},
   "outputs": [],
   "source": [
    "pos = sio2.positions\n",
    "d = [0,2,2,2]\n",
    "for i in range(len(d)):\n",
    "    pos = np.delete(pos,d[i],axis = 0)\n",
    "\n",
    "si2o3.cell = sio2.cell\n",
    "for i in range(len(pos)):\n",
    "    si2o3[i].position = pos[i]"
   ]
  },
  {
   "cell_type": "code",
   "execution_count": 4,
   "metadata": {},
   "outputs": [],
   "source": [
    "P = np.identity(3) * 3\n",
    "super_si2o3 = make_supercell(si2o3,P)"
   ]
  }
 ],
 "metadata": {
  "kernelspec": {
   "display_name": "Python 3 (ipykernel)",
   "language": "python",
   "name": "python3"
  },
  "language_info": {
   "codemirror_mode": {
    "name": "ipython",
    "version": 3
   },
   "file_extension": ".py",
   "mimetype": "text/x-python",
   "name": "python",
   "nbconvert_exporter": "python",
   "pygments_lexer": "ipython3",
   "version": "3.10.9"
  }
 },
 "nbformat": 4,
 "nbformat_minor": 2
}
